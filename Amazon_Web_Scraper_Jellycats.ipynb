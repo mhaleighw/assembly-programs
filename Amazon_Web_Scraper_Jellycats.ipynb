{
  "nbformat": 4,
  "nbformat_minor": 0,
  "metadata": {
    "colab": {
      "provenance": [],
      "toc_visible": true,
      "authorship_tag": "ABX9TyMZ4oGDu24+OmphVDLUZN98",
      "include_colab_link": true
    },
    "kernelspec": {
      "name": "python3",
      "display_name": "Python 3"
    },
    "language_info": {
      "name": "python"
    }
  },
  "cells": [
    {
      "cell_type": "markdown",
      "metadata": {
        "id": "view-in-github",
        "colab_type": "text"
      },
      "source": [
        "<a href=\"https://colab.research.google.com/github/mhaleighw/boolean-calculator/blob/main/Amazon_Web_Scraper_Jellycats.ipynb\" target=\"_parent\"><img src=\"https://colab.research.google.com/assets/colab-badge.svg\" alt=\"Open In Colab\"/></a>"
      ]
    },
    {
      "cell_type": "code",
      "source": [
        "# library imports\n",
        "# beautifulsoup package is used for web scraping, pulling data out of HTML and XML files\n",
        "from bs4 import BeautifulSoup\n",
        "import requests\n",
        "import time\n",
        "import datetime\n",
        "import textwrap\n",
        "\n",
        "import smtplib"
      ],
      "metadata": {
        "id": "vy5R5b3F8wfR"
      },
      "execution_count": 5,
      "outputs": []
    },
    {
      "cell_type": "code",
      "source": [
        "\n",
        "# connect to the amazon website (sleeping dog jelly cat)\n",
        "\n",
        "URL = 'https://www.amazon.com/Jellycat-Napping-Nipper-Stuffed-Animal/dp/B0BRBQWDCH/?_encoding=UTF8&pd_rd_w=5ZcCr&content-id=amzn1.sym.35cab78c-35e3-4fc1-aab0-27eaa6c86063%3Aamzn1.symc.e5c80209-769f-4ade-a325-2eaec14b8e0e&pf_rd_p=35cab78c-35e3-4fc1-aab0-27eaa6c86063&pf_rd_r=D7Q8RXQAGY24QQYHR8YQ&pd_rd_wg=MtYb0&pd_rd_r=9c5c9ce6-cf17-40a2-9f9d-44c245b2b42e&ref_=pd_gw_ci_mcx_mr_hp_atf_m'\n",
        "\n",
        "headers = {\"User-Agent\":\"Mozilla/5.0 (Macintosh; Intel Mac OS X 10_15_7) AppleWebKit/537.36 (KHTML, like Gecko) Chrome/119.0.0.0 Safari/537.36\",\"Accept-Encoding\":\"gzip, deflate\", \"Accept\":\"text/html,application/xhtml+xml,application/xml;q=0.9,*/*;q=0.8\", \"DNT\":\"1\",\"Connection\":\"close\", \"Upgrade-Insecure-Requests\":\"1\"}\n",
        "\n",
        "page = requests.get(URL, headers=headers)\n",
        "\n",
        "# begin bringing the data in, now use the beautifulsoup library\n",
        "\n",
        "soup1 = BeautifulSoup(page.content, \"html.parser\")\n",
        "\n",
        "soup2 = BeautifulSoup(soup1.prettify(), \"html.parser\") #prettify organizes HTML content nicely"
      ],
      "metadata": {
        "id": "FXuGK4zEmMGg"
      },
      "execution_count": 6,
      "outputs": []
    },
    {
      "cell_type": "code",
      "source": [
        "# total price = $23.50\n",
        "symbol = soup2.find(\"span\", class_=\"a-price-symbol\").get_text(strip=True) # $ symbol\n",
        "whole = soup2.find(\"span\", class_=\"a-price-whole\").get_text(strip=True) # $23\n",
        "decimal = soup2.find(\"span\", class_=\"a-price-decimal\").get_text(strip=True) # $23.\n",
        "fraction = soup2.find(\"span\", class_=\"a-price-fraction\").get_text(strip=True) # $23.50\n",
        "\n",
        "# concatenate the variables to print total price\n",
        "total_price = f\"{symbol}{whole}{fraction}\"\n",
        "\n",
        "# product description\n",
        "product_description = soup2.find(\"div\", {\"id\": \"productDescription\", \"class\": \"a-section a-spacing-small\"}).get_text(strip=True)\n",
        "wrapped_product_description = textwrap.fill(product_description, width= 50)"
      ],
      "metadata": {
        "id": "tM6E3k9y86zb"
      },
      "execution_count": 7,
      "outputs": []
    },
    {
      "cell_type": "code",
      "source": [
        "# item details (brand, num of pieces, target gender, toy figure type)\n",
        "\n",
        "def item_details():\n",
        "  table = soup2.find(\"table\", class_=\"a-keyvalue prodDetTable\")\n",
        "\n",
        "  if table:\n",
        "      rows = table.find_all(\"tr\")\n",
        "      for row in rows:\n",
        "          header = row.find(\"th\", class_=\"a-color-secondary a-size-base prodDetSectionEntry\")\n",
        "          value = row.find(\"td\", class_=\"a-size-base prodDetAttrValue\")\n",
        "\n",
        "          if header and value:\n",
        "              header_text = header.get_text(strip=True)\n",
        "              value_text = value.get_text(strip=True)\n",
        "\n",
        "              details = print(f\"{header_text}: {value_text}\")"
      ],
      "metadata": {
        "id": "b5-SZGIjTcOP"
      },
      "execution_count": 39,
      "outputs": []
    },
    {
      "cell_type": "code",
      "source": [
        "# item ratings\n",
        "def item_reviews():\n",
        "  reviews = soup2.find_all(\"div\", class_=\"a-section review aok-relative\")\n",
        "  for review in reviews:\n",
        "    name = review.find(\"span\", class_=\"a-profile-name\").get_text(strip=True)\n",
        "    date = review.find(\"span\", class_=\"review-date\").get_text(strip=True)\n",
        "    rating = review.find(\"span\", class_=\"a-icon-alt\").get_text(strip=True)\n",
        "\n",
        "    description_span = review.find(\"span\", {\"data-hook\": \"review-body\"})\n",
        "    description = description_span.find(\"span\").get_text(strip=True)\n",
        "\n",
        "    print(f\"Name: {name}\\nDate: {date}\\nRating: {rating}\\nDescription: {description}\\n\")\n"
      ],
      "metadata": {
        "id": "_hLU8VLtlwV2"
      },
      "execution_count": 40,
      "outputs": []
    },
    {
      "cell_type": "code",
      "source": [
        "title = soup2.find(id='productTitle').get_text()\n",
        "print(title)\n",
        "\n",
        "userInput = input(\"\\n1: Price\\n2: Product Description\\n3: Reviews\\n4: Item Details\\nSelection: \")\n",
        "\n",
        "if userInput == \"1\": # price\n",
        "  print(total_price)\n",
        "elif userInput == \"2\": # product description\n",
        "  print(wrapped_product_description)\n",
        "elif userInput == \"3\": # user review/ratings\n",
        "  item_reviews()\n",
        "elif userInput == \"4\":\n",
        "  item_details()\n"
      ],
      "metadata": {
        "colab": {
          "base_uri": "https://localhost:8080/"
        },
        "id": "JcomoUV37auw",
        "outputId": "59ec9716-fd3a-45a5-cf56-051ef75f80a6"
      },
      "execution_count": 42,
      "outputs": [
        {
          "output_type": "stream",
          "name": "stdout",
          "text": [
            "\n",
            "             Jellycat Napping Nipper Dog Stuffed Animal with Bed\n",
            "            \n",
            "\n",
            "1: Price\n",
            "2: Product Description\n",
            "3: Reviews\n",
            "4: Item Details\n",
            "Selection: 4\n",
            "Brand: Jellycat\n",
            "Number of Pieces: 1\n",
            "Target Gender: Unisex\n",
            "Toy figure type: Stuffed Toy\n"
          ]
        }
      ]
    }
  ]
}